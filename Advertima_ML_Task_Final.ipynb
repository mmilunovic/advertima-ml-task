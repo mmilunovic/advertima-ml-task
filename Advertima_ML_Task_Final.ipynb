{
  "nbformat": 4,
  "nbformat_minor": 0,
  "metadata": {
    "colab": {
      "name": "Advertima ML Task Final.ipynb",
      "provenance": [],
      "toc_visible": true
    },
    "kernelspec": {
      "name": "python3",
      "display_name": "Python 3"
    },
    "accelerator": "GPU"
  },
  "cells": [
    {
      "cell_type": "code",
      "metadata": {
        "id": "hgkkkHYakROq",
        "colab_type": "code",
        "colab": {}
      },
      "source": [
        "from __future__ import absolute_import, division, print_function, unicode_literals\n",
        "\n",
        "import tensorflow as tf\n",
        "import tensorflow_datasets as tfds\n",
        "from tensorflow.keras.optimizers import RMSprop\n",
        "\n",
        "\n",
        "import keras\n",
        "from keras.datasets import fashion_mnist\n",
        "from keras.models import Sequential\n",
        "from keras.layers import Dense, Dropout, Flatten\n",
        "from keras.layers import Conv2D, MaxPooling2D\n",
        "from keras.preprocessing.image import ImageDataGenerator\n",
        "from keras.utils import to_categorical\n",
        "from keras.utils import to_categorical\n",
        "\n",
        "from sklearn.model_selection import train_test_split\n",
        "from sklearn.model_selection import StratifiedKFold\n",
        "\n",
        "import matplotlib.pyplot as plt\n",
        "import numpy as np\n",
        "import math\n",
        "import pandas as pd\n",
        "\n",
        "%matplotlib inline\n"
      ],
      "execution_count": 0,
      "outputs": []
    },
    {
      "cell_type": "markdown",
      "metadata": {
        "id": "MUPVhF5nceWN",
        "colab_type": "text"
      },
      "source": [
        "# LeNet-5"
      ]
    },
    {
      "cell_type": "code",
      "metadata": {
        "id": "oQgaIvQ3F5u-",
        "colab_type": "code",
        "colab": {}
      },
      "source": [
        "class myCallback(tf.keras.callbacks.Callback):\n",
        "    def on_epoch_end(self, epoch, logs = {}):\n",
        "        if(logs.get('accuracy') >= 0.97):\n",
        "            print(\"Accuracy is above 97%, stopping.\")\n",
        "            self.model.stop_training = True"
      ],
      "execution_count": 0,
      "outputs": []
    },
    {
      "cell_type": "code",
      "metadata": {
        "id": "qJGWswxwDLaM",
        "colab_type": "code",
        "colab": {
          "base_uri": "https://localhost:8080/",
          "height": 51
        },
        "outputId": "ac592e13-9694-45d0-f334-977bbb9db468"
      },
      "source": [
        "dataset, metadata = tfds.load('fashion_mnist', as_supervised=True, with_info=True)\n",
        "train_dataset, test_dataset = dataset['train'], dataset['test']\n",
        "\n",
        "num_train_examples = metadata.splits['train'].num_examples\n",
        "num_test_examples = metadata.splits['test'].num_examples\n",
        "print(\"Number of training examples: {}\".format(num_train_examples))\n",
        "print(\"Number of test examples:     {}\".format(num_test_examples))"
      ],
      "execution_count": 33,
      "outputs": [
        {
          "output_type": "stream",
          "text": [
            "Number of training examples: 60000\n",
            "Number of test examples:     10000\n"
          ],
          "name": "stdout"
        }
      ]
    },
    {
      "cell_type": "code",
      "metadata": {
        "id": "SMHgL5accy4O",
        "colab_type": "code",
        "colab": {}
      },
      "source": [
        "paddings = tf.constant([[2, 2], [2, 2], [0, 0]])\n",
        "def normalize(images, labels):\n",
        "  images = tf.pad(images, paddings)\n",
        "  images = tf.cast(images, tf.float32)\n",
        "  images /= 255\n",
        "  return images, labels\n",
        "\n",
        "train_dataset =  train_dataset.map(normalize)\n",
        "test_dataset  =  test_dataset.map(normalize)"
      ],
      "execution_count": 0,
      "outputs": []
    },
    {
      "cell_type": "code",
      "metadata": {
        "id": "x1wKmAysc2S5",
        "colab_type": "code",
        "colab": {}
      },
      "source": [
        "lenet5 = tf.keras.Sequential([\n",
        "    tf.keras.layers.Conv2D(6, (5,5), padding='same', activation='relu', input_shape=(32, 32, 1)),\n",
        "    tf.keras.layers.MaxPooling2D((2, 2), strides=2),\n",
        "\n",
        "    tf.keras.layers.Conv2D(16, (5,5), padding='same', activation='relu'),\n",
        "    tf.keras.layers.MaxPooling2D((2, 2), strides=2),\n",
        "\n",
        "    tf.keras.layers.Flatten(),\n",
        "\n",
        "    tf.keras.layers.Dense(120, activation='relu'),\n",
        "    tf.keras.layers.Dense(84, activation='relu'),\n",
        "\n",
        "    tf.keras.layers.Dense(10,  activation='softmax')\n",
        "])"
      ],
      "execution_count": 0,
      "outputs": []
    },
    {
      "cell_type": "code",
      "metadata": {
        "id": "cShf5RT-c9_U",
        "colab_type": "code",
        "colab": {}
      },
      "source": [
        "lenet5.compile(optimizer='adam',\n",
        "              loss='sparse_categorical_crossentropy',\n",
        "              metrics=['accuracy'])\n",
        "lenet5.summary()\n"
      ],
      "execution_count": 0,
      "outputs": []
    },
    {
      "cell_type": "code",
      "metadata": {
        "id": "LYMBV80udDIW",
        "colab_type": "code",
        "colab": {}
      },
      "source": [
        "BATCH_SIZE = 256\n",
        "\n",
        "callbacks = myCallback()\n",
        "\n",
        "train_dataset = train_dataset.repeat().shuffle(num_train_examples).batch(BATCH_SIZE)\n",
        "test_dataset = test_dataset.batch(BATCH_SIZE)\n",
        "\n",
        "lenet_history = lenet5.fit(train_dataset, \n",
        "                           epochs=20, \n",
        "                           steps_per_epoch=math.ceil(num_train_examples/BATCH_SIZE))"
      ],
      "execution_count": 0,
      "outputs": []
    },
    {
      "cell_type": "code",
      "metadata": {
        "id": "0Xercvy8dGQm",
        "colab_type": "code",
        "colab": {
          "base_uri": "https://localhost:8080/",
          "height": 105
        },
        "outputId": "60394458-8676-44c9-b9ab-02540e216ecd"
      },
      "source": [
        "test_loss, test_accuracy = lenet5.evaluate(test_dataset, steps=math.ceil(num_test_examples/32))\n",
        "print('Accuracy on test dataset:', test_accuracy)"
      ],
      "execution_count": 38,
      "outputs": [
        {
          "output_type": "stream",
          "text": [
            " 39/313 [==>...........................] - ETA: 18s - loss: 0.2885 - accuracy: 0.9025WARNING:tensorflow:Your input ran out of data; interrupting training. Make sure that your dataset or generator can generate at least `steps_per_epoch * epochs` batches (in this case, 313 batches). You may need to use the repeat() function when building your dataset.\n"
          ],
          "name": "stdout"
        },
        {
          "output_type": "stream",
          "text": [
            "WARNING:tensorflow:Your input ran out of data; interrupting training. Make sure that your dataset or generator can generate at least `steps_per_epoch * epochs` batches (in this case, 313 batches). You may need to use the repeat() function when building your dataset.\n"
          ],
          "name": "stderr"
        },
        {
          "output_type": "stream",
          "text": [
            "\b\b\b\b\b\b\b\b\b\b\b\b\b\b\b\b\b\b\b\b\b\b\b\b\b\b\b\b\b\b\b\b\b\b\b\b\b\b\b\b\b\b\b\b\b\b\b\b\b\b\b\b\b\b\b\b\b\b\b\b\b\b\b\b\b\b\b\b\b\b\b\b\b\b\b\b\b\b\b\b\b\b\b\b\b\r 40/313 [==>...........................] - 3s 68ms/step - loss: 0.2889 - accuracy: 0.9025\n",
            "Accuracy on test dataset: 0.9024999737739563\n"
          ],
          "name": "stdout"
        }
      ]
    },
    {
      "cell_type": "code",
      "metadata": {
        "id": "5VkKvQ4ZdKU2",
        "colab_type": "code",
        "colab": {
          "base_uri": "https://localhost:8080/",
          "height": 545
        },
        "outputId": "b6a3bf89-b78d-4301-c171-8f874c10a82d"
      },
      "source": [
        "lenet5.save('lenet5.h5')\n",
        "accuracy = lenet_history.history['accuracy']\n",
        "#val_accuracy = lenet_history.history['val_accuracy']\n",
        "loss = lenet_history.history['loss']\n",
        "#val_loss = lenet_history.history['val_loss']\n",
        "epochs = range(len(accuracy))\n",
        "\n",
        "plt.plot(epochs, accuracy, 'bo', label='Training accuracy')\n",
        "#plt.plot(epochs, val_accuracy, 'b', label='Validation accuracy')\n",
        "plt.title('Training accuracy')\n",
        "plt.legend()\n",
        "plt.figure()\n",
        "\n",
        "plt.plot(epochs, loss, 'bo', label='Training loss')\n",
        "#plt.plot(epochs, val_loss, 'b', label='Validation loss')\n",
        "plt.title('Training loss')\n",
        "plt.legend()\n",
        "plt.show()"
      ],
      "execution_count": 39,
      "outputs": [
        {
          "output_type": "display_data",
          "data": {
            "image/png": "[encoded data removed]",
            "text/plain": [
              "<Figure size 432x288 with 1 Axes>"
            ]
          },
          "metadata": {
            "tags": [],
            "needs_background": "light"
          }
        },
        {
          "output_type": "display_data",
          "data": {
            "image/png": "[encoded data removed]",
            "text/plain": [
              "<Figure size 432x288 with 1 Axes>"
            ]
          },
          "metadata": {
            "tags": [],
            "needs_background": "light"
          }
        }
      ]
    },
    {
      "cell_type": "markdown",
      "metadata": {
        "id": "zgf5XoGjlD4w",
        "colab_type": "text"
      },
      "source": [
        "# 1 Layer CNN"
      ]
    },
    {
      "cell_type": "code",
      "metadata": {
        "id": "2M-cuBeYDq_p",
        "colab_type": "code",
        "colab": {}
      },
      "source": [
        "data_train, data_test = fashion_mnist.load_data()\n",
        "\n",
        "X = np.array(data_train[0])\n",
        "y = to_categorical(np.array(data_train[1]))\n",
        "\n",
        "X_train, X_val, y_train, y_val = train_test_split(X, y, test_size=0.2, random_state=13)\n",
        "\n",
        "X_test = np.array(data_test[0])\n",
        "y_test = to_categorical(np.array(data_test[1]))"
      ],
      "execution_count": 0,
      "outputs": []
    },
    {
      "cell_type": "code",
      "metadata": {
        "id": "EPbaUXRQDrgM",
        "colab_type": "code",
        "colab": {}
      },
      "source": [
        "img_rows, img_cols = 28, 28\n",
        "input_shape = (img_rows, img_cols, 1)\n",
        "\n",
        "X_train = X_train.reshape(X_train.shape[0], img_rows, img_cols, 1)\n",
        "X_train = X_train.astype('float32')\n",
        "X_train /= 255\n",
        "\n",
        "X_test = X_test.reshape(X_test.shape[0], img_rows, img_cols, 1)\n",
        "X_test = X_test.astype('float32')\n",
        "X_test /= 255\n",
        "\n",
        "X_val = X_val.reshape(X_val.shape[0], img_rows, img_cols, 1)\n",
        "X_val = X_val.astype('float32')\n",
        "X_val /= 255"
      ],
      "execution_count": 0,
      "outputs": []
    },
    {
      "cell_type": "code",
      "metadata": {
        "id": "5YPTdU4NlHT2",
        "colab_type": "code",
        "colab": {}
      },
      "source": [
        "singleLayer = tf.keras.Sequential([\n",
        "        tf.keras.layers.Conv2D(32, kernel_size=(3, 3), activation='relu', input_shape=X_train.shape[1:]),\n",
        "        tf.keras.layers.MaxPooling2D(pool_size=(2, 2)),\n",
        "        tf.keras.layers.Dropout(0.25),\n",
        "\n",
        "        tf.keras.layers.Flatten(),\n",
        "\n",
        "        tf.keras.layers.Dense(128, activation='relu'),\n",
        "\n",
        "        tf.keras.layers.Dense(10, activation='softmax')\n",
        "])"
      ],
      "execution_count": 0,
      "outputs": []
    },
    {
      "cell_type": "code",
      "metadata": {
        "id": "ZwCpwMi3ldVM",
        "colab_type": "code",
        "colab": {
          "base_uri": "https://localhost:8080/",
          "height": 357
        },
        "outputId": "89e2791d-014b-4232-93e9-604d9f5c9b70"
      },
      "source": [
        "# singleLayer.compile(loss='categorical_crossentropy',\n",
        "#               optimizer='adam',\n",
        "#               metrics=['accuracy'])\n",
        "singleLayer.compile(loss='categorical_crossentropy',\n",
        "              optimizer=RMSprop(lr=0.001),\n",
        "              metrics=['accuracy'])\n",
        "singleLayer.summary()\n"
      ],
      "execution_count": 24,
      "outputs": [
        {
          "output_type": "stream",
          "text": [
            "Model: \"sequential_2\"\n",
            "_________________________________________________________________\n",
            "Layer (type)                 Output Shape              Param #   \n",
            "=================================================================\n",
            "conv2d_6 (Conv2D)            (None, 26, 26, 32)        320       \n",
            "_________________________________________________________________\n",
            "max_pooling2d_4 (MaxPooling2 (None, 13, 13, 32)        0         \n",
            "_________________________________________________________________\n",
            "dropout_5 (Dropout)          (None, 13, 13, 32)        0         \n",
            "_________________________________________________________________\n",
            "flatten_2 (Flatten)          (None, 5408)              0         \n",
            "_________________________________________________________________\n",
            "dense_6 (Dense)              (None, 128)               692352    \n",
            "_________________________________________________________________\n",
            "dense_7 (Dense)              (None, 10)                1290      \n",
            "=================================================================\n",
            "Total params: 693,962\n",
            "Trainable params: 693,962\n",
            "Non-trainable params: 0\n",
            "_________________________________________________________________\n"
          ],
          "name": "stdout"
        }
      ]
    },
    {
      "cell_type": "code",
      "metadata": {
        "id": "0ApTn0_LE7FD",
        "colab_type": "code",
        "colab": {}
      },
      "source": [
        "# Without augmentation\n",
        "singleLayer_history = singleLayer.fit(X_train, y_train,\n",
        "          batch_size=256,\n",
        "          epochs=20,\n",
        "          verbose=1,\n",
        "          validation_data=(X_val, y_val))"
      ],
      "execution_count": 0,
      "outputs": []
    },
    {
      "cell_type": "code",
      "metadata": {
        "id": "PG1Vg5e2ljcS",
        "colab_type": "code",
        "colab": {}
      },
      "source": [
        "# With augmentation\n",
        "from keras.preprocessing.image import ImageDataGenerator\n",
        "gen = ImageDataGenerator(rotation_range=8, \n",
        "                         width_shift_range=0.08, \n",
        "                         shear_range=0.3,\n",
        "                         height_shift_range=0.08, \n",
        "                         zoom_range=0.08)\n",
        "\n",
        "batches = gen.flow(X_train, y_train, batch_size=256)\n",
        "val_batches = gen.flow(X_val, y_val, batch_size=256)"
      ],
      "execution_count": 0,
      "outputs": []
    },
    {
      "cell_type": "code",
      "metadata": {
        "id": "7_Yhh7cWltik",
        "colab_type": "code",
        "colab": {}
      },
      "source": [
        "singleLayer_history = singleLayer.fit_generator(batches, \n",
        "                                                steps_per_epoch=48000//256, \n",
        "                                                epochs=50,\n",
        "                                                validation_data=val_batches, \n",
        "                                                validation_steps=12000//256)"
      ],
      "execution_count": 0,
      "outputs": []
    },
    {
      "cell_type": "code",
      "metadata": {
        "id": "2NWTJBNIl1tP",
        "colab_type": "code",
        "colab": {
          "base_uri": "https://localhost:8080/",
          "height": 51
        },
        "outputId": "25c46fb2-425b-4caf-b54b-006452571620"
      },
      "source": [
        "test_loss, test_accuracy = singleLayer.evaluate(X_test, y_test)\n",
        "print('Accuracy on test dataset:', test_accuracy)"
      ],
      "execution_count": 15,
      "outputs": [
        {
          "output_type": "stream",
          "text": [
            "313/313 [==============================] - 1s 3ms/step - loss: 0.2813 - accuracy: 0.9126\n",
            "Accuracy on test dataset: 0.9125999808311462\n"
          ],
          "name": "stdout"
        }
      ]
    },
    {
      "cell_type": "code",
      "metadata": {
        "id": "iYX8zC3ymBaH",
        "colab_type": "code",
        "colab": {
          "base_uri": "https://localhost:8080/",
          "height": 545
        },
        "outputId": "648232e2-591f-4345-ec7d-9862a7056be0"
      },
      "source": [
        "singleLayer.save('singleLayer.h5')\n",
        "\n",
        "accuracy = singleLayer_history.history['accuracy']\n",
        "val_accuracy = singleLayer_history.history['val_accuracy']\n",
        "loss = singleLayer_history.history['loss']\n",
        "val_loss = singleLayer_history.history['val_loss']\n",
        "epochs = range(len(accuracy))\n",
        "\n",
        "plt.plot(epochs, accuracy, 'bo', label='Training accuracy')\n",
        "plt.plot(epochs, val_accuracy, 'b', label='Validation accuracy')\n",
        "plt.title('Training and validation accuracy')\n",
        "plt.legend()\n",
        "plt.figure()\n",
        "\n",
        "plt.plot(epochs, loss, 'bo', label='Training loss')\n",
        "plt.plot(epochs, val_loss, 'b', label='Validation loss')\n",
        "plt.title('Training and validation loss')\n",
        "plt.legend()\n",
        "plt.show()"
      ],
      "execution_count": 75,
      "outputs": [
        {
          "output_type": "display_data",
          "data": {
            "image/png": "[encoded data removed]",
            "text/plain": [
              "<Figure size 432x288 with 1 Axes>"
            ]
          },
          "metadata": {
            "tags": [],
            "needs_background": "light"
          }
        },
        {
          "output_type": "display_data",
          "data": {
            "image/png": "[encoded data removed]",
            "text/plain": [
              "<Figure size 432x288 with 1 Axes>"
            ]
          },
          "metadata": {
            "tags": [],
            "needs_background": "light"
          }
        }
      ]
    },
    {
      "cell_type": "markdown",
      "metadata": {
        "id": "7LiW5rDuhUkW",
        "colab_type": "text"
      },
      "source": [
        "# 4 Layer CNN"
      ]
    },
    {
      "cell_type": "code",
      "metadata": {
        "id": "0lspo0p1Df70",
        "colab_type": "code",
        "colab": {}
      },
      "source": [
        "data_train, data_test = fashion_mnist.load_data()\n",
        "\n",
        "X = np.array(data_train[0])\n",
        "y = to_categorical(np.array(data_train[1]))\n",
        "\n",
        "X_train, X_val, y_train, y_val = train_test_split(X, y, test_size=0.2, random_state=13)\n",
        "\n",
        "X_test = np.array(data_test[0])\n",
        "y_test = to_categorical(np.array(data_test[1]))"
      ],
      "execution_count": 0,
      "outputs": []
    },
    {
      "cell_type": "code",
      "metadata": {
        "id": "T2U14Y8GDk5w",
        "colab_type": "code",
        "colab": {}
      },
      "source": [
        "img_rows, img_cols = 28, 28\n",
        "input_shape = (img_rows, img_cols, 1)\n",
        "paddings = tf.constant([[2, 2], [2, 2], [0, 0]])\n",
        "\n",
        "\n",
        "X_train = X_train.reshape(X_train.shape[0], img_rows, img_cols, 1)\n",
        "X_train = X_train.astype('float32')\n",
        "X_train /= 255\n",
        "\n",
        "X_test = X_test.reshape(X_test.shape[0], img_rows, img_cols, 1)\n",
        "X_test = X_test.astype('float32')\n",
        "X_test /= 255\n",
        "\n",
        "X_val = X_val.reshape(X_val.shape[0], img_rows, img_cols, 1)\n",
        "X_val = X_val.astype('float32')\n",
        "X_val /= 255"
      ],
      "execution_count": 0,
      "outputs": []
    },
    {
      "cell_type": "code",
      "metadata": {
        "id": "I6hSZuhdhcYp",
        "colab_type": "code",
        "colab": {}
      },
      "source": [
        "fourleLayer = tf.keras.Sequential([\n",
        "        tf.keras.layers.Conv2D(32, kernel_size=(3, 3), activation='relu', input_shape=X_train.shape[1:]),\n",
        "        tf.keras.layers.BatchNormalization(),\n",
        "\n",
        "        tf.keras.layers.Conv2D(32, kernel_size=(3, 3), activation='relu'),\n",
        "        tf.keras.layers.BatchNormalization(),\n",
        "        tf.keras.layers.MaxPooling2D(pool_size=(2, 2)),\n",
        "        tf.keras.layers.Dropout(0.25),\n",
        "\n",
        "        tf.keras.layers.Conv2D(64, kernel_size=(3, 3), activation='relu'),\n",
        "        tf.keras.layers.BatchNormalization(),\n",
        "        tf.keras.layers.Dropout(0.25),\n",
        "\n",
        "        tf.keras.layers.Conv2D(128, kernel_size=(3, 3), activation='relu'),\n",
        "        tf.keras.layers.BatchNormalization(),                        \n",
        "        tf.keras.layers.MaxPooling2D(pool_size=(2, 2)),\n",
        "        tf.keras.layers.Dropout(0.25),\n",
        "\n",
        "        tf.keras.layers.Flatten(),\n",
        "\n",
        "        tf.keras.layers.Dense(512, activation='relu'),\n",
        "        tf.keras.layers.BatchNormalization(),\n",
        "        tf.keras.layers.Dropout(0.5),\n",
        "\n",
        "        tf.keras.layers.Dense(128, activation='relu'),\n",
        "        tf.keras.layers.BatchNormalization(),\n",
        "        tf.keras.layers.Dropout(0.5),\n",
        "\n",
        "        tf.keras.layers.Dense(10, activation='softmax')\n",
        "])"
      ],
      "execution_count": 0,
      "outputs": []
    },
    {
      "cell_type": "code",
      "metadata": {
        "id": "NujSjLP7ixy7",
        "colab_type": "code",
        "colab": {
          "base_uri": "https://localhost:8080/",
          "height": 867
        },
        "outputId": "e3301b4c-e8c2-4931-a73d-93b59d5cbbe0"
      },
      "source": [
        "fourleLayer.compile(loss='categorical_crossentropy',\n",
        "              optimizer='adam',\n",
        "              metrics=['accuracy'])\n",
        "fourleLayer.summary()"
      ],
      "execution_count": 57,
      "outputs": [
        {
          "output_type": "stream",
          "text": [
            "Model: \"sequential_7\"\n",
            "_________________________________________________________________\n",
            "Layer (type)                 Output Shape              Param #   \n",
            "=================================================================\n",
            "conv2d_19 (Conv2D)           (None, 26, 26, 32)        320       \n",
            "_________________________________________________________________\n",
            "batch_normalization_18 (Batc (None, 26, 26, 32)        128       \n",
            "_________________________________________________________________\n",
            "conv2d_20 (Conv2D)           (None, 24, 24, 32)        9248      \n",
            "_________________________________________________________________\n",
            "batch_normalization_19 (Batc (None, 24, 24, 32)        128       \n",
            "_________________________________________________________________\n",
            "max_pooling2d_13 (MaxPooling (None, 12, 12, 32)        0         \n",
            "_________________________________________________________________\n",
            "dropout_16 (Dropout)         (None, 12, 12, 32)        0         \n",
            "_________________________________________________________________\n",
            "conv2d_21 (Conv2D)           (None, 10, 10, 64)        18496     \n",
            "_________________________________________________________________\n",
            "batch_normalization_20 (Batc (None, 10, 10, 64)        256       \n",
            "_________________________________________________________________\n",
            "dropout_17 (Dropout)         (None, 10, 10, 64)        0         \n",
            "_________________________________________________________________\n",
            "conv2d_22 (Conv2D)           (None, 8, 8, 128)         73856     \n",
            "_________________________________________________________________\n",
            "batch_normalization_21 (Batc (None, 8, 8, 128)         512       \n",
            "_________________________________________________________________\n",
            "max_pooling2d_14 (MaxPooling (None, 4, 4, 128)         0         \n",
            "_________________________________________________________________\n",
            "dropout_18 (Dropout)         (None, 4, 4, 128)         0         \n",
            "_________________________________________________________________\n",
            "flatten_7 (Flatten)          (None, 2048)              0         \n",
            "_________________________________________________________________\n",
            "dense_20 (Dense)             (None, 512)               1049088   \n",
            "_________________________________________________________________\n",
            "batch_normalization_22 (Batc (None, 512)               2048      \n",
            "_________________________________________________________________\n",
            "dropout_19 (Dropout)         (None, 512)               0         \n",
            "_________________________________________________________________\n",
            "dense_21 (Dense)             (None, 128)               65664     \n",
            "_________________________________________________________________\n",
            "batch_normalization_23 (Batc (None, 128)               512       \n",
            "_________________________________________________________________\n",
            "dropout_20 (Dropout)         (None, 128)               0         \n",
            "_________________________________________________________________\n",
            "dense_22 (Dense)             (None, 10)                1290      \n",
            "=================================================================\n",
            "Total params: 1,221,546\n",
            "Trainable params: 1,219,754\n",
            "Non-trainable params: 1,792\n",
            "_________________________________________________________________\n"
          ],
          "name": "stdout"
        }
      ]
    },
    {
      "cell_type": "code",
      "metadata": {
        "id": "zerq0yS6i_CI",
        "colab_type": "code",
        "colab": {}
      },
      "source": [
        "# Without data augmentation\n",
        "epochs = 20\n",
        "batch_size = 256\n",
        "\n",
        "fourleLayer_history = fourleLayer.fit(X_train, y_train,\n",
        "                                      batch_size=batch_size,\n",
        "                                      epochs=50,\n",
        "                                      validation_data=(X_test, y_test),\n",
        "                                      shuffle=True,\n",
        "                                      callbacks = [callbacks])"
      ],
      "execution_count": 0,
      "outputs": []
    },
    {
      "cell_type": "code",
      "metadata": {
        "id": "_xCzcPtHj0-p",
        "colab_type": "code",
        "colab": {
          "base_uri": "https://localhost:8080/",
          "height": 697
        },
        "outputId": "1c5124e1-8e49-490e-d3b5-571238928840"
      },
      "source": [
        "\n",
        "# With data augmentation\n",
        "epochs = 20\n",
        "batch_size = 32\n",
        "\n",
        "train_datagen = ImageDataGenerator(rotation_range=8, \n",
        "                                  width_shift_range=0.08, \n",
        "                                  shear_range=0.3,\n",
        "                                  height_shift_range=0.08, \n",
        "                                  zoom_range=0.08)\n",
        "\n",
        "train_datagen.fit(X_train)\n",
        "\n",
        "fourleLayer_history = fourleLayer.fit_generator(train_datagen.flow(X_train, y_train,\n",
        "                                                batch_size=batch_size),\n",
        "                                                epochs=epochs,\n",
        "                                                validation_data=(X_test, y_test),\n",
        "                                                steps_per_epoch=X_train.shape[0] // batch_size,\n",
        "                                                workers=4)"
      ],
      "execution_count": 58,
      "outputs": [
        {
          "output_type": "stream",
          "text": [
            "Epoch 1/20\n",
            "1500/1500 [==============================] - 41s 27ms/step - loss: 0.8005 - accuracy: 0.7156 - val_loss: 0.4566 - val_accuracy: 0.8260\n",
            "Epoch 2/20\n",
            "1500/1500 [==============================] - 41s 27ms/step - loss: 0.5473 - accuracy: 0.7987 - val_loss: 0.4164 - val_accuracy: 0.8477\n",
            "Epoch 3/20\n",
            "1500/1500 [==============================] - 41s 27ms/step - loss: 0.4790 - accuracy: 0.8257 - val_loss: 0.4036 - val_accuracy: 0.8310\n",
            "Epoch 4/20\n",
            "1500/1500 [==============================] - 41s 27ms/step - loss: 0.4390 - accuracy: 0.8403 - val_loss: 0.3535 - val_accuracy: 0.8670\n",
            "Epoch 5/20\n",
            "1500/1500 [==============================] - 41s 27ms/step - loss: 0.4173 - accuracy: 0.8497 - val_loss: 0.2962 - val_accuracy: 0.8904\n",
            "Epoch 6/20\n",
            "1500/1500 [==============================] - 40s 27ms/step - loss: 0.3943 - accuracy: 0.8572 - val_loss: 0.2839 - val_accuracy: 0.8958\n",
            "Epoch 7/20\n",
            "1500/1500 [==============================] - 41s 27ms/step - loss: 0.3786 - accuracy: 0.8654 - val_loss: 0.2785 - val_accuracy: 0.8943\n",
            "Epoch 8/20\n",
            "1500/1500 [==============================] - 41s 27ms/step - loss: 0.3690 - accuracy: 0.8684 - val_loss: 0.3161 - val_accuracy: 0.8760\n",
            "Epoch 9/20\n",
            "1500/1500 [==============================] - 40s 27ms/step - loss: 0.3534 - accuracy: 0.8726 - val_loss: 0.2575 - val_accuracy: 0.9053\n",
            "Epoch 10/20\n",
            "1500/1500 [==============================] - 41s 27ms/step - loss: 0.3463 - accuracy: 0.8758 - val_loss: 0.3456 - val_accuracy: 0.8740\n",
            "Epoch 11/20\n",
            "1500/1500 [==============================] - 40s 27ms/step - loss: 0.3394 - accuracy: 0.8779 - val_loss: 0.2651 - val_accuracy: 0.9033\n",
            "Epoch 12/20\n",
            "1500/1500 [==============================] - 41s 27ms/step - loss: 0.3374 - accuracy: 0.8797 - val_loss: 0.2588 - val_accuracy: 0.9026\n",
            "Epoch 13/20\n",
            "1500/1500 [==============================] - 40s 27ms/step - loss: 0.3282 - accuracy: 0.8830 - val_loss: 0.2524 - val_accuracy: 0.9074\n",
            "Epoch 14/20\n",
            "1500/1500 [==============================] - 40s 27ms/step - loss: 0.3161 - accuracy: 0.8850 - val_loss: 0.2543 - val_accuracy: 0.9078\n",
            "Epoch 15/20\n",
            "1500/1500 [==============================] - 41s 27ms/step - loss: 0.3125 - accuracy: 0.8881 - val_loss: 0.2447 - val_accuracy: 0.9115\n",
            "Epoch 16/20\n",
            "1500/1500 [==============================] - 41s 27ms/step - loss: 0.3102 - accuracy: 0.8882 - val_loss: 0.2555 - val_accuracy: 0.9052\n",
            "Epoch 17/20\n",
            "1500/1500 [==============================] - 41s 27ms/step - loss: 0.3033 - accuracy: 0.8906 - val_loss: 0.2218 - val_accuracy: 0.9175\n",
            "Epoch 18/20\n",
            "1500/1500 [==============================] - 41s 27ms/step - loss: 0.3024 - accuracy: 0.8914 - val_loss: 0.2346 - val_accuracy: 0.9136\n",
            "Epoch 19/20\n",
            "1500/1500 [==============================] - 41s 27ms/step - loss: 0.2929 - accuracy: 0.8952 - val_loss: 0.2577 - val_accuracy: 0.9037\n",
            "Epoch 20/20\n",
            "1500/1500 [==============================] - 41s 27ms/step - loss: 0.2930 - accuracy: 0.8960 - val_loss: 0.2267 - val_accuracy: 0.9167\n"
          ],
          "name": "stdout"
        }
      ]
    },
    {
      "cell_type": "code",
      "metadata": {
        "id": "0htjzvdrjJEF",
        "colab_type": "code",
        "colab": {
          "base_uri": "https://localhost:8080/",
          "height": 51
        },
        "outputId": "5817d64c-b3f4-4f7f-fcd6-9b5c2f68808d"
      },
      "source": [
        "test_loss, test_accuracy = fourleLayer.evaluate(X_test, y_test)\n",
        "print('Accuracy on test dataset:', test_accuracy)"
      ],
      "execution_count": 59,
      "outputs": [
        {
          "output_type": "stream",
          "text": [
            "313/313 [==============================] - 2s 5ms/step - loss: 0.2267 - accuracy: 0.9167\n",
            "Accuracy on test dataset: 0.916700005531311\n"
          ],
          "name": "stdout"
        }
      ]
    },
    {
      "cell_type": "code",
      "metadata": {
        "id": "EeCWc6mWjOK_",
        "colab_type": "code",
        "colab": {
          "base_uri": "https://localhost:8080/",
          "height": 545
        },
        "outputId": "a8a83c85-1aa0-467b-f7c0-954ee9dbdf3c"
      },
      "source": [
        "fourleLayer.save('fourleLayer.h5')\n",
        "\n",
        "accuracy = fourleLayer_history.history['accuracy']\n",
        "val_accuracy = fourleLayer_history.history['val_accuracy']\n",
        "loss = fourleLayer_history.history['loss']\n",
        "val_loss = fourleLayer_history.history['val_loss']\n",
        "epochs = range(len(accuracy))\n",
        "\n",
        "plt.plot(epochs, accuracy, 'bo', label='Training accuracy')\n",
        "plt.plot(epochs, val_accuracy, 'b', label='Validation accuracy')\n",
        "plt.title('Training and validation accuracy')\n",
        "plt.legend()\n",
        "plt.figure()\n",
        "\n",
        "plt.plot(epochs, loss, 'bo', label='Training loss')\n",
        "plt.plot(epochs, val_loss, 'b', label='Validation loss')\n",
        "plt.title('Training and validation loss')\n",
        "plt.legend()\n",
        "plt.show()"
      ],
      "execution_count": 60,
      "outputs": [
        {
          "output_type": "display_data",
          "data": {
            "image/png": "[encoded data removed]",
            "text/plain": [
              "<Figure size 432x288 with 1 Axes>"
            ]
          },
          "metadata": {
            "tags": [],
            "needs_background": "light"
          }
        },
        {
          "output_type": "display_data",
          "data": {
            "image/png": "[encoded data removed]",
            "text/plain": [
              "<Figure size 432x288 with 1 Axes>"
            ]
          },
          "metadata": {
            "tags": [],
            "needs_background": "light"
          }
        }
      ]
    }
  ]
}